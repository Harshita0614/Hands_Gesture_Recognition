{
 "cells": [
  {
   "cell_type": "code",
   "execution_count": 1,
   "id": "699dc8a7-9999-40cd-ab75-ed17fb729036",
   "metadata": {},
   "outputs": [],
   "source": [
    "import os\n",
    "import numpy as np\n",
    "\n"
   ]
  },
  {
   "cell_type": "code",
   "execution_count": 2,
   "id": "7d26b175",
   "metadata": {},
   "outputs": [],
   "source": [
    "import cv2\n",
    "\n",
    "from sklearn.model_selection import train_test_split\n",
    "\n"
   ]
  },
  {
   "cell_type": "code",
   "execution_count": 3,
   "id": "b677f10b",
   "metadata": {},
   "outputs": [],
   "source": [
    "from tensorflow.keras.preprocessing.image import ImageDataGenerator\n",
    "from tensorflow.keras.utils import to_categorical\n",
    "\n",
    "# Paths\n",
    "dataset_path = r\"C:\\Users\\Harshita Mehta\\handgesture\\handgestures\""
   ]
  },
  {
   "cell_type": "code",
   "execution_count": 4,
   "id": "54e04d99-188f-4998-afaf-067daf04b52b",
   "metadata": {},
   "outputs": [],
   "source": [
    "\n",
    "# Parameters\n",
    "image_size = (64, 64)  # Resize images to 64x64 pixels\n",
    "batch_size = 32\n",
    "categories = os.listdir(dataset_path)  # Get folder names (gesture types)\n",
    "\n",
    "\n"
   ]
  },
  {
   "cell_type": "code",
   "execution_count": 5,
   "id": "e4eff591-86ca-40ad-851c-b2543fdf4c84",
   "metadata": {},
   "outputs": [],
   "source": [
    "\n",
    "# Load and preprocess the images\n",
    "def load_images_from_folder(folder):\n",
    "    images = []\n",
    "    labels = []\n",
    "    for category in categories:\n",
    "        category_path = os.path.join(folder, category)\n",
    "        label = categories.index(category)  # Assign a numeric label based on folder name\n",
    "        for filename in os.listdir(category_path):\n",
    "            img = cv2.imread(os.path.join(category_path, filename))\n",
    "            if img is not None:\n",
    "                img = cv2.resize(img, image_size)\n",
    "                img = img.astype('float32') / 255.0  # Normalize the image\n",
    "                images.append(img)\n",
    "                labels.append(label)\n",
    "    return np.array(images), np.array(labels)"
   ]
  },
  {
   "cell_type": "code",
   "execution_count": 6,
   "id": "f4c6675b-4c85-40da-b1fd-b0bbeb619043",
   "metadata": {},
   "outputs": [],
   "source": [
    "# Load all images and labels\n",
    "images, labels = load_images_from_folder(dataset_path)\n",
    "\n",
    "# One-hot encode the labels\n",
    "labels = to_categorical(labels, num_classes=len(categories))\n",
    "\n",
    "# Split into training and validation sets\n",
    "X_train, X_val, y_train, y_val = train_test_split(images, labels, test_size=0.2, random_state=42)\n",
    "\n",
    "# Optional: Data augmentation\n",
    "train_datagen = ImageDataGenerator(\n",
    "    rotation_range=20,\n",
    "    width_shift_range=0.2,\n",
    "    height_shift_range=0.2,\n",
    "    shear_range=0.2,\n",
    "    zoom_range=0.2,\n",
    "    horizontal_flip=True,\n",
    "    fill_mode='nearest'\n",
    ")\n",
    "\n",
    "val_datagen = ImageDataGenerator()\n",
    "\n",
    "train_generator = train_datagen.flow(X_train, y_train, batch_size=batch_size)\n",
    "val_generator = val_datagen.flow(X_val, y_val, batch_size=batch_size)\n"
   ]
  },
  {
   "cell_type": "code",
   "execution_count": null,
   "id": "1b1b8d13-0fee-4215-a088-87cacc9e5980",
   "metadata": {},
   "outputs": [],
   "source": [
    "import tensorflow as tf\n",
    "from tensorflow.keras.models import Sequential\n",
    "from tensorflow.keras.layers import Conv2D, MaxPooling2D, Flatten, Dense, Dropout\n",
    "\n",
    "# Define the CNN model\n",
    "model = Sequential([\n",
    "    Conv2D(32, (3, 3), activation='relu', input_shape=(image_size[0], image_size[1], 3)),\n",
    "    MaxPooling2D(pool_size=(2, 2)),\n",
    "    Conv2D(64, (3, 3), activation='relu'),\n",
    "    MaxPooling2D(pool_size=(2, 2)),\n",
    "    Conv2D(128, (3, 3), activation='relu'),\n",
    "    MaxPooling2D(pool_size=(2, 2)),\n",
    "    Flatten(),\n",
    "    Dense(128, activation='relu'),\n",
    "    Dropout(0.5),\n",
    "    Dense(len(categories), activation='softmax')  # Number of gesture categories\n",
    "])\n",
    "\n",
    "model.compile(optimizer='adam', loss='categorical_crossentropy', metrics=['accuracy'])\n",
    "\n",
    "model.summary()\n",
    "\n",
    "# Train the model\n",
    "history = model.fit(\n",
    "    train_generator,\n",
    "    steps_per_epoch=len(X_train) // batch_size,\n",
    "    epochs=25,\n",
    "    validation_data=val_generator,\n",
    "    validation_steps=len(X_val) // batch_size\n",
    ")\n"
   ]
  },
  {
   "cell_type": "code",
   "execution_count": null,
   "id": "46e02d5e-057a-448e-b2d3-7c120ba83484",
   "metadata": {},
   "outputs": [],
   "source": [
    "model.save(r\"C:\\Users\\Harshita Mehta\\handgesture\\handgestures.h5\")"
   ]
  },
  {
   "cell_type": "code",
   "execution_count": null,
   "id": "a24bddd8-e02c-47a0-91c2-9693794df01f",
   "metadata": {},
   "outputs": [],
   "source": [
    "import matplotlib.pyplot as plt\n",
    "\n",
    "# Plot training & validation accuracy and loss\n",
    "plt.figure(figsize=(12, 6))\n",
    "\n",
    "# Accuracy\n",
    "plt.subplot(1, 2, 1)\n",
    "plt.plot(history.history['accuracy'])\n",
    "plt.plot(history.history['val_accuracy'])\n",
    "plt.title('Model accuracy')\n",
    "plt.xlabel('Epoch')\n",
    "plt.ylabel('Accuracy')\n",
    "plt.legend(['Train', 'Validation'])\n",
    "\n",
    "# Loss\n",
    "plt.subplot(1, 2, 2)\n",
    "plt.plot(history.history['loss'])\n",
    "plt.plot(history.history['val_loss'])\n",
    "plt.title('Model loss')\n",
    "plt.xlabel('Epoch')\n",
    "plt.ylabel('Loss')\n",
    "plt.legend(['Train', 'Validation'])\n",
    "\n",
    "plt.show()\n"
   ]
  },
  {
   "cell_type": "code",
   "execution_count": null,
   "id": "527a27e1-1842-4388-9d30-f007bb461094",
   "metadata": {},
   "outputs": [],
   "source": [
    "import cv2\n",
    "import numpy as np\n",
    "from tensorflow.keras.models import load_model\n",
    "\n",
    "# Path to the trained model\n",
    "model_path = r\"C:\\Users\\Harshita Mehta\\handgesture\\handgestures.h5\"  \n",
    "\n",
    "\n",
    "\n",
    "\n",
    "# Load the trained model\n",
    "model = load_model(model_path)"
   ]
  },
  {
   "cell_type": "code",
   "execution_count": 11,
   "id": "744af6f2-a033-455e-a655-ac52e97fbf68",
   "metadata": {},
   "outputs": [],
   "source": [
    "# Parameters\n",
    "image_size = (64, 64)  # Should match the size used during training\n",
    "categories = ['01_palm', '02_l', '03_fist', '04_fist_moved', '05_thumb', '06_index', '07_ok', '08_palm_moved', '09_c', '10_down']  # Replace with the actual names of your gesture categories"
   ]
  },
  {
   "cell_type": "code",
   "execution_count": 12,
   "id": "f7d38361-6316-4d27-8812-46a058872671",
   "metadata": {},
   "outputs": [],
   "source": [
    "# Function to predict the gesture from a frame\n",
    "def predict_gesture(frame, model):\n",
    "    img = cv2.resize(frame, image_size)\n",
    "    img = img.astype('float32') / 255.0\n",
    "    img = np.expand_dims(img, axis=0)\n",
    "    predictions = model.predict(img)\n",
    "    return categories[np.argmax(predictions[0])]"
   ]
  },
  {
   "cell_type": "code",
   "execution_count": null,
   "id": "6ba3dce3",
   "metadata": {},
   "outputs": [],
   "source": []
  }
 ],
 "metadata": {
  "kernelspec": {
   "display_name": "Python 3 (ipykernel)",
   "language": "python",
   "name": "python3"
  },
  "language_info": {
   "codemirror_mode": {
    "name": "ipython",
    "version": 3
   },
   "file_extension": ".py",
   "mimetype": "text/x-python",
   "name": "python",
   "nbconvert_exporter": "python",
   "pygments_lexer": "ipython3",
   "version": "3.12.5"
  }
 },
 "nbformat": 4,
 "nbformat_minor": 5
}
